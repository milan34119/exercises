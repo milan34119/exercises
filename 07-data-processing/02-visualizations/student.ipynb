{
 "cells": [
  {
   "attachments": {},
   "cell_type": "markdown",
   "metadata": {},
   "source": [
    "Start your notebook here:"
   ]
  },
  {
   "cell_type": "markdown",
   "metadata": {},
   "source": [
    "Just some necessary things:"
   ]
  },
  {
   "cell_type": "code",
   "execution_count": 3,
   "metadata": {},
   "outputs": [
    {
     "name": "stdout",
     "output_type": "stream",
     "text": [
      "Requirement already satisfied: numpy in c:\\users\\milan\\appdata\\local\\programs\\python\\python311\\lib\\site-packages (1.26.4)\n",
      "Requirement already satisfied: pandas in c:\\users\\milan\\appdata\\local\\programs\\python\\python311\\lib\\site-packages (2.2.2)\n",
      "Requirement already satisfied: matplotlib in c:\\users\\milan\\appdata\\local\\programs\\python\\python311\\lib\\site-packages (3.9.0)\n",
      "Requirement already satisfied: seaborn in c:\\users\\milan\\appdata\\local\\programs\\python\\python311\\lib\\site-packages (0.13.2)\n",
      "Requirement already satisfied: python-dateutil in c:\\users\\milan\\appdata\\roaming\\python\\python311\\site-packages (2.9.0.post0)\n",
      "Requirement already satisfied: pytz>=2020.1 in c:\\users\\milan\\appdata\\local\\programs\\python\\python311\\lib\\site-packages (from pandas) (2024.1)\n",
      "Requirement already satisfied: tzdata>=2022.7 in c:\\users\\milan\\appdata\\local\\programs\\python\\python311\\lib\\site-packages (from pandas) (2024.1)\n",
      "Requirement already satisfied: contourpy>=1.0.1 in c:\\users\\milan\\appdata\\local\\programs\\python\\python311\\lib\\site-packages (from matplotlib) (1.2.1)\n",
      "Requirement already satisfied: cycler>=0.10 in c:\\users\\milan\\appdata\\local\\programs\\python\\python311\\lib\\site-packages (from matplotlib) (0.12.1)\n",
      "Requirement already satisfied: fonttools>=4.22.0 in c:\\users\\milan\\appdata\\local\\programs\\python\\python311\\lib\\site-packages (from matplotlib) (4.53.0)\n",
      "Requirement already satisfied: kiwisolver>=1.3.1 in c:\\users\\milan\\appdata\\local\\programs\\python\\python311\\lib\\site-packages (from matplotlib) (1.4.5)\n",
      "Requirement already satisfied: packaging>=20.0 in c:\\users\\milan\\appdata\\local\\programs\\python\\python311\\lib\\site-packages (from matplotlib) (23.1)\n",
      "Requirement already satisfied: pillow>=8 in c:\\users\\milan\\appdata\\local\\programs\\python\\python311\\lib\\site-packages (from matplotlib) (10.3.0)\n",
      "Requirement already satisfied: pyparsing>=2.3.1 in c:\\users\\milan\\appdata\\local\\programs\\python\\python311\\lib\\site-packages (from matplotlib) (3.1.2)\n",
      "Requirement already satisfied: six>=1.5 in c:\\users\\milan\\appdata\\roaming\\python\\python311\\site-packages (from python-dateutil) (1.16.0)\n"
     ]
    }
   ],
   "source": [
    "# Install necessary pip packages in the current Jupyter kernel\n",
    "import sys\n",
    "!{sys.executable} -m pip install numpy pandas matplotlib seaborn python-dateutil\n",
    "\n",
    "# Import the libraries we'll be using\n",
    "import pandas as pd\n",
    "import numpy as np\n",
    "import ast\n",
    "import matplotlib.pyplot as plt\n",
    "import seaborn as sns\n",
    "from datetime import datetime\n",
    "from dateutil.parser import parse"
   ]
  },
  {
   "cell_type": "markdown",
   "metadata": {},
   "source": [
    "Eventjes csv bestand lezen\n"
   ]
  },
  {
   "cell_type": "code",
   "execution_count": 4,
   "metadata": {},
   "outputs": [],
   "source": [
    "filepath = \"../dataset.csv\"\n",
    "data = pd.read_csv(filepath, index_col=0)"
   ]
  },
  {
   "cell_type": "code",
   "execution_count": 12,
   "metadata": {},
   "outputs": [
    {
     "name": "stdout",
     "output_type": "stream",
     "text": [
      "<class 'pandas.core.frame.DataFrame'>\n",
      "Index: 999 entries, 1 to 1000\n",
      "Data columns (total 16 columns):\n",
      " #   Column                          Non-Null Count  Dtype  \n",
      "---  ------                          --------------  -----  \n",
      " 0   NAME                            999 non-null    object \n",
      " 1   LANGUAGE                        999 non-null    object \n",
      " 2   TYPE                            999 non-null    object \n",
      " 3   MOST_STREAMED_GAME              999 non-null    object \n",
      " 4   2ND_MOST_STREAMED_GAME          922 non-null    object \n",
      " 5   AVERAGE_STREAM_DURATION         999 non-null    float64\n",
      " 6   FOLLOWERS_GAINED_PER_STREAM     999 non-null    float64\n",
      " 7   AVG_VIEWERS_PER_STREAM          999 non-null    float64\n",
      " 8   AVG_GAMES_PER_STREAM            999 non-null    float64\n",
      " 9   TOTAL_TIME_STREAMED             999 non-null    float64\n",
      " 10  TOTAL_FOLLOWERS                 999 non-null    int64  \n",
      " 11  TOTAL_VIEWS                     999 non-null    int64  \n",
      " 12  TOTAL_GAMES_STREAMED            999 non-null    int64  \n",
      " 13  ACTIVE_DAYS_PER_WEEK            999 non-null    float64\n",
      " 14  MOST_ACTIVE_DAY                 999 non-null    object \n",
      " 15  DAY_WITH_MOST_FOLLOWERS_GAINED  999 non-null    object \n",
      "dtypes: float64(6), int64(3), object(7)\n",
      "memory usage: 132.7+ KB\n"
     ]
    }
   ],
   "source": [
    "data.info()"
   ]
  },
  {
   "cell_type": "markdown",
   "metadata": {},
   "source": [
    "How many 2nd most streamed games are missing?"
   ]
  },
  {
   "cell_type": "code",
   "execution_count": 8,
   "metadata": {},
   "outputs": [
    {
     "name": "stdout",
     "output_type": "stream",
     "text": [
      "Total records =  999\n"
     ]
    },
    {
     "data": {
      "text/html": [
       "<div>\n",
       "<style scoped>\n",
       "    .dataframe tbody tr th:only-of-type {\n",
       "        vertical-align: middle;\n",
       "    }\n",
       "\n",
       "    .dataframe tbody tr th {\n",
       "        vertical-align: top;\n",
       "    }\n",
       "\n",
       "    .dataframe thead th {\n",
       "        text-align: right;\n",
       "    }\n",
       "</style>\n",
       "<table border=\"1\" class=\"dataframe\">\n",
       "  <thead>\n",
       "    <tr style=\"text-align: right;\">\n",
       "      <th></th>\n",
       "      <th>Total Missing</th>\n",
       "      <th>In Percent</th>\n",
       "    </tr>\n",
       "  </thead>\n",
       "  <tbody>\n",
       "    <tr>\n",
       "      <th>2ND_MOST_STREAMED_GAME</th>\n",
       "      <td>0</td>\n",
       "      <td>0.0</td>\n",
       "    </tr>\n",
       "  </tbody>\n",
       "</table>\n",
       "</div>"
      ],
      "text/plain": [
       "                        Total Missing  In Percent\n",
       "2ND_MOST_STREAMED_GAME              0         0.0"
      ]
     },
     "execution_count": 8,
     "metadata": {},
     "output_type": "execute_result"
    }
   ],
   "source": [
    "total_null_2nd_game = data['2ND_MOST_STREAMED_GAME'].isnull().sum()\n",
    "\n",
    "percent_2nd_game = (data['2ND_MOST_STREAMED_GAME'].isnull().sum() / data.shape[0]) * 100\n",
    "\n",
    "print(\"Total records = \", data.shape[0])\n",
    "missing_data_2nd_game = pd.DataFrame({\n",
    "    'Total Missing': [total_null_2nd_game],\n",
    "    'In Percent': [percent_2nd_game.round(2)]\n",
    "}, index=['2ND_MOST_STREAMED_GAME'])\n",
    "\n",
    "missing_data_2nd_game"
   ]
  },
  {
   "cell_type": "markdown",
   "metadata": {},
   "source": [
    "Now, let's replace the missing data with 'No second game streamed'\n"
   ]
  },
  {
   "cell_type": "code",
   "execution_count": 7,
   "metadata": {},
   "outputs": [],
   "source": [
    "data['2ND_MOST_STREAMED_GAME'] = data['2ND_MOST_STREAMED_GAME'].replace(np.nan, 'No second game streamed')"
   ]
  },
  {
   "cell_type": "markdown",
   "metadata": {},
   "source": [
    "Duplicates vinden (er zijn er geen)\n"
   ]
  },
  {
   "cell_type": "code",
   "execution_count": 9,
   "metadata": {},
   "outputs": [
    {
     "data": {
      "text/html": [
       "<div>\n",
       "<style scoped>\n",
       "    .dataframe tbody tr th:only-of-type {\n",
       "        vertical-align: middle;\n",
       "    }\n",
       "\n",
       "    .dataframe tbody tr th {\n",
       "        vertical-align: top;\n",
       "    }\n",
       "\n",
       "    .dataframe thead th {\n",
       "        text-align: right;\n",
       "    }\n",
       "</style>\n",
       "<table border=\"1\" class=\"dataframe\">\n",
       "  <thead>\n",
       "    <tr style=\"text-align: right;\">\n",
       "      <th></th>\n",
       "      <th>NAME</th>\n",
       "      <th>LANGUAGE</th>\n",
       "      <th>TYPE</th>\n",
       "      <th>MOST_STREAMED_GAME</th>\n",
       "      <th>2ND_MOST_STREAMED_GAME</th>\n",
       "      <th>AVERAGE_STREAM_DURATION</th>\n",
       "      <th>FOLLOWERS_GAINED_PER_STREAM</th>\n",
       "      <th>AVG_VIEWERS_PER_STREAM</th>\n",
       "      <th>AVG_GAMES_PER_STREAM</th>\n",
       "      <th>TOTAL_TIME_STREAMED</th>\n",
       "      <th>TOTAL_FOLLOWERS</th>\n",
       "      <th>TOTAL_VIEWS</th>\n",
       "      <th>TOTAL_GAMES_STREAMED</th>\n",
       "      <th>ACTIVE_DAYS_PER_WEEK</th>\n",
       "      <th>MOST_ACTIVE_DAY</th>\n",
       "      <th>DAY_WITH_MOST_FOLLOWERS_GAINED</th>\n",
       "    </tr>\n",
       "    <tr>\n",
       "      <th>RANK</th>\n",
       "      <th></th>\n",
       "      <th></th>\n",
       "      <th></th>\n",
       "      <th></th>\n",
       "      <th></th>\n",
       "      <th></th>\n",
       "      <th></th>\n",
       "      <th></th>\n",
       "      <th></th>\n",
       "      <th></th>\n",
       "      <th></th>\n",
       "      <th></th>\n",
       "      <th></th>\n",
       "      <th></th>\n",
       "      <th></th>\n",
       "      <th></th>\n",
       "    </tr>\n",
       "  </thead>\n",
       "  <tbody>\n",
       "  </tbody>\n",
       "</table>\n",
       "</div>"
      ],
      "text/plain": [
       "Empty DataFrame\n",
       "Columns: [NAME, LANGUAGE, TYPE, MOST_STREAMED_GAME, 2ND_MOST_STREAMED_GAME, AVERAGE_STREAM_DURATION, FOLLOWERS_GAINED_PER_STREAM, AVG_VIEWERS_PER_STREAM, AVG_GAMES_PER_STREAM, TOTAL_TIME_STREAMED, TOTAL_FOLLOWERS, TOTAL_VIEWS, TOTAL_GAMES_STREAMED, ACTIVE_DAYS_PER_WEEK, MOST_ACTIVE_DAY, DAY_WITH_MOST_FOLLOWERS_GAINED]\n",
       "Index: []"
      ]
     },
     "execution_count": 9,
     "metadata": {},
     "output_type": "execute_result"
    }
   ],
   "source": [
    "duplicates = data[data.duplicated()]\n",
    "duplicates.head()"
   ]
  },
  {
   "cell_type": "code",
   "execution_count": 10,
   "metadata": {},
   "outputs": [
    {
     "data": {
      "text/html": [
       "<div>\n",
       "<style scoped>\n",
       "    .dataframe tbody tr th:only-of-type {\n",
       "        vertical-align: middle;\n",
       "    }\n",
       "\n",
       "    .dataframe tbody tr th {\n",
       "        vertical-align: top;\n",
       "    }\n",
       "\n",
       "    .dataframe thead th {\n",
       "        text-align: right;\n",
       "    }\n",
       "</style>\n",
       "<table border=\"1\" class=\"dataframe\">\n",
       "  <thead>\n",
       "    <tr style=\"text-align: right;\">\n",
       "      <th></th>\n",
       "      <th>NAME</th>\n",
       "      <th>LANGUAGE</th>\n",
       "      <th>TYPE</th>\n",
       "      <th>MOST_STREAMED_GAME</th>\n",
       "      <th>2ND_MOST_STREAMED_GAME</th>\n",
       "      <th>AVERAGE_STREAM_DURATION</th>\n",
       "      <th>FOLLOWERS_GAINED_PER_STREAM</th>\n",
       "      <th>AVG_VIEWERS_PER_STREAM</th>\n",
       "      <th>AVG_GAMES_PER_STREAM</th>\n",
       "      <th>TOTAL_TIME_STREAMED</th>\n",
       "      <th>TOTAL_FOLLOWERS</th>\n",
       "      <th>TOTAL_VIEWS</th>\n",
       "      <th>TOTAL_GAMES_STREAMED</th>\n",
       "      <th>ACTIVE_DAYS_PER_WEEK</th>\n",
       "      <th>MOST_ACTIVE_DAY</th>\n",
       "      <th>DAY_WITH_MOST_FOLLOWERS_GAINED</th>\n",
       "    </tr>\n",
       "    <tr>\n",
       "      <th>RANK</th>\n",
       "      <th></th>\n",
       "      <th></th>\n",
       "      <th></th>\n",
       "      <th></th>\n",
       "      <th></th>\n",
       "      <th></th>\n",
       "      <th></th>\n",
       "      <th></th>\n",
       "      <th></th>\n",
       "      <th></th>\n",
       "      <th></th>\n",
       "      <th></th>\n",
       "      <th></th>\n",
       "      <th></th>\n",
       "      <th></th>\n",
       "      <th></th>\n",
       "    </tr>\n",
       "  </thead>\n",
       "  <tbody>\n",
       "    <tr>\n",
       "      <th>1</th>\n",
       "      <td>kaicenat</td>\n",
       "      <td>English</td>\n",
       "      <td>personality</td>\n",
       "      <td>Just Chatting</td>\n",
       "      <td>I'm Only Sleeping</td>\n",
       "      <td>7.6</td>\n",
       "      <td>18.405</td>\n",
       "      <td>15.852</td>\n",
       "      <td>2.3</td>\n",
       "      <td>4.698</td>\n",
       "      <td>10600000</td>\n",
       "      <td>9150000</td>\n",
       "      <td>194</td>\n",
       "      <td>3.6</td>\n",
       "      <td>Friday</td>\n",
       "      <td>Saturday</td>\n",
       "    </tr>\n",
       "    <tr>\n",
       "      <th>2</th>\n",
       "      <td>jynxzi</td>\n",
       "      <td>English</td>\n",
       "      <td>personality</td>\n",
       "      <td>Tom Clancy's Rainbow Six Siege</td>\n",
       "      <td>NBA 2K20</td>\n",
       "      <td>5.4</td>\n",
       "      <td>3.386</td>\n",
       "      <td>1.145</td>\n",
       "      <td>1.2</td>\n",
       "      <td>8.407</td>\n",
       "      <td>5760000</td>\n",
       "      <td>1950000</td>\n",
       "      <td>54</td>\n",
       "      <td>5.6</td>\n",
       "      <td>Tuesday</td>\n",
       "      <td>Sunday</td>\n",
       "    </tr>\n",
       "    <tr>\n",
       "      <th>3</th>\n",
       "      <td>caedrel</td>\n",
       "      <td>English</td>\n",
       "      <td>personality</td>\n",
       "      <td>League of Legends</td>\n",
       "      <td>I'm Only Sleeping</td>\n",
       "      <td>6.3</td>\n",
       "      <td>689.000</td>\n",
       "      <td>12.331</td>\n",
       "      <td>1.3</td>\n",
       "      <td>6.728</td>\n",
       "      <td>797000</td>\n",
       "      <td>14200000</td>\n",
       "      <td>111</td>\n",
       "      <td>2.8</td>\n",
       "      <td>Thursday</td>\n",
       "      <td>Sunday</td>\n",
       "    </tr>\n",
       "    <tr>\n",
       "      <th>4</th>\n",
       "      <td>caseoh_</td>\n",
       "      <td>English</td>\n",
       "      <td>personality</td>\n",
       "      <td>NBA 2K23</td>\n",
       "      <td>Just Chatting</td>\n",
       "      <td>4.6</td>\n",
       "      <td>7.185</td>\n",
       "      <td>0.000</td>\n",
       "      <td>3.6</td>\n",
       "      <td>2.554</td>\n",
       "      <td>4220000</td>\n",
       "      <td>53</td>\n",
       "      <td>385</td>\n",
       "      <td>6.2</td>\n",
       "      <td>Friday</td>\n",
       "      <td>Monday</td>\n",
       "    </tr>\n",
       "    <tr>\n",
       "      <th>5</th>\n",
       "      <td>ibai</td>\n",
       "      <td>Spanish</td>\n",
       "      <td>personality</td>\n",
       "      <td>Just Chatting</td>\n",
       "      <td>League of Legends</td>\n",
       "      <td>4.1</td>\n",
       "      <td>8.289</td>\n",
       "      <td>190.714</td>\n",
       "      <td>1.5</td>\n",
       "      <td>6.865</td>\n",
       "      <td>15600000</td>\n",
       "      <td>359000000</td>\n",
       "      <td>149</td>\n",
       "      <td>4.3</td>\n",
       "      <td>Wednesday</td>\n",
       "      <td>Saturday</td>\n",
       "    </tr>\n",
       "  </tbody>\n",
       "</table>\n",
       "</div>"
      ],
      "text/plain": [
       "          NAME LANGUAGE         TYPE              MOST_STREAMED_GAME  \\\n",
       "RANK                                                                   \n",
       "1     kaicenat  English  personality                   Just Chatting   \n",
       "2       jynxzi  English  personality  Tom Clancy's Rainbow Six Siege   \n",
       "3      caedrel  English  personality               League of Legends   \n",
       "4      caseoh_  English  personality                        NBA 2K23   \n",
       "5         ibai  Spanish  personality                   Just Chatting   \n",
       "\n",
       "     2ND_MOST_STREAMED_GAME  AVERAGE_STREAM_DURATION  \\\n",
       "RANK                                                   \n",
       "1         I'm Only Sleeping                      7.6   \n",
       "2                  NBA 2K20                      5.4   \n",
       "3         I'm Only Sleeping                      6.3   \n",
       "4             Just Chatting                      4.6   \n",
       "5         League of Legends                      4.1   \n",
       "\n",
       "      FOLLOWERS_GAINED_PER_STREAM  AVG_VIEWERS_PER_STREAM  \\\n",
       "RANK                                                        \n",
       "1                          18.405                  15.852   \n",
       "2                           3.386                   1.145   \n",
       "3                         689.000                  12.331   \n",
       "4                           7.185                   0.000   \n",
       "5                           8.289                 190.714   \n",
       "\n",
       "      AVG_GAMES_PER_STREAM  TOTAL_TIME_STREAMED  TOTAL_FOLLOWERS  TOTAL_VIEWS  \\\n",
       "RANK                                                                            \n",
       "1                      2.3                4.698         10600000      9150000   \n",
       "2                      1.2                8.407          5760000      1950000   \n",
       "3                      1.3                6.728           797000     14200000   \n",
       "4                      3.6                2.554          4220000           53   \n",
       "5                      1.5                6.865         15600000    359000000   \n",
       "\n",
       "      TOTAL_GAMES_STREAMED  ACTIVE_DAYS_PER_WEEK MOST_ACTIVE_DAY  \\\n",
       "RANK                                                               \n",
       "1                      194                   3.6          Friday   \n",
       "2                       54                   5.6         Tuesday   \n",
       "3                      111                   2.8        Thursday   \n",
       "4                      385                   6.2          Friday   \n",
       "5                      149                   4.3       Wednesday   \n",
       "\n",
       "     DAY_WITH_MOST_FOLLOWERS_GAINED  \n",
       "RANK                                 \n",
       "1                          Saturday  \n",
       "2                            Sunday  \n",
       "3                            Sunday  \n",
       "4                            Monday  \n",
       "5                          Saturday  "
      ]
     },
     "execution_count": 10,
     "metadata": {},
     "output_type": "execute_result"
    }
   ],
   "source": [
    "data.head()"
   ]
  }
 ],
 "metadata": {
  "kernelspec": {
   "display_name": "Python 3",
   "language": "python",
   "name": "python3"
  },
  "language_info": {
   "codemirror_mode": {
    "name": "ipython",
    "version": 3
   },
   "file_extension": ".py",
   "mimetype": "text/x-python",
   "name": "python",
   "nbconvert_exporter": "python",
   "pygments_lexer": "ipython3",
   "version": "3.11.5"
  },
  "orig_nbformat": 4
 },
 "nbformat": 4,
 "nbformat_minor": 2
}
